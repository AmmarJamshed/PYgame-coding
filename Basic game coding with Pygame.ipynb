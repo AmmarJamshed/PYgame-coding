{
 "cells": [
  {
   "cell_type": "code",
   "execution_count": 1,
   "id": "3dcffad8",
   "metadata": {},
   "outputs": [
    {
     "name": "stdout",
     "output_type": "stream",
     "text": [
      "pygame 2.1.2 (SDL 2.0.18, Python 3.9.7)\n",
      "Hello from the pygame community. https://www.pygame.org/contribute.html\n"
     ]
    }
   ],
   "source": [
    "# import the pygame module (install if not installed)\n",
    "import pygame, sys"
   ]
  },
  {
   "cell_type": "code",
   "execution_count": 2,
   "id": "5fa1fa77",
   "metadata": {},
   "outputs": [],
   "source": [
    "from pygame.locals import *"
   ]
  },
  {
   "cell_type": "markdown",
   "id": "7df0cc2f",
   "metadata": {},
   "source": [
    "## pygame.locals contains several constant variables that are easy to identify as being in the pygame.locals module without pygame.locals. in front of them"
   ]
  },
  {
   "cell_type": "code",
   "execution_count": 3,
   "id": "ed1554e4",
   "metadata": {},
   "outputs": [
    {
     "data": {
      "text/plain": [
       "(5, 0)"
      ]
     },
     "execution_count": 3,
     "metadata": {},
     "output_type": "execute_result"
    }
   ],
   "source": [
    "pygame.init()"
   ]
  },
  {
   "cell_type": "code",
   "execution_count": 4,
   "id": "7473f525",
   "metadata": {},
   "outputs": [],
   "source": [
    "DISPLAYSURFACE = pygame.display.set_mode((400, 300))"
   ]
  },
  {
   "cell_type": "markdown",
   "id": "427837bd",
   "metadata": {},
   "source": [
    "# Display Hello World"
   ]
  },
  {
   "cell_type": "code",
   "execution_count": 5,
   "id": "c28af52b",
   "metadata": {},
   "outputs": [],
   "source": [
    "pygame.event.get()\n",
    "pygame.display.set_caption('This is what it looks like')"
   ]
  },
  {
   "cell_type": "markdown",
   "id": "ea3af3da",
   "metadata": {},
   "source": [
    "# Just fix the relevant bug if you have it on your Machine"
   ]
  },
  {
   "cell_type": "code",
   "execution_count": 3,
   "id": "d66c5778",
   "metadata": {},
   "outputs": [],
   "source": [
    "from IPython.display import Image"
   ]
  },
  {
   "cell_type": "code",
   "execution_count": 5,
   "id": "40f2bbd5",
   "metadata": {},
   "outputs": [
    {
     "data": {
      "image/png": "[encoded data removed]",
      "text/plain": [
       "<IPython.core.display.Image object>"
      ]
     },
     "execution_count": 5,
     "metadata": {},
     "output_type": "execute_result"
    }
   ],
   "source": [
    "Image(r\"C:\\Users\\ammar\\Downloads\\Screenshot (21)_____.png\")"
   ]
  }
 ],
 "metadata": {
  "kernelspec": {
   "display_name": "Python 3 (ipykernel)",
   "language": "python",
   "name": "python3"
  },
  "language_info": {
   "codemirror_mode": {
    "name": "ipython",
    "version": 3
   },
   "file_extension": ".py",
   "mimetype": "text/x-python",
   "name": "python",
   "nbconvert_exporter": "python",
   "pygments_lexer": "ipython3",
   "version": "3.9.7"
  }
 },
 "nbformat": 4,
 "nbformat_minor": 5
}
